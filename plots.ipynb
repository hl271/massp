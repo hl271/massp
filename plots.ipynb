{
 "cells": [
  {
   "cell_type": "markdown",
   "metadata": {},
   "source": [
    "# Plot drawing\n",
    "## 1. Writing function V(t)\n",
    "$$ V(t) = V_0sin(2\\pi t) $$\n",
    "$$V_0 = 170V, t=0.2s $$"
   ]
  },
  {
   "cell_type": "markdown",
   "metadata": {},
   "source": [
    "### Import modules\n",
    "- Import `matplotlib` for drawing graphs\n",
    "- Import `numpy` for calculating with vectors"
   ]
  },
  {
   "cell_type": "code",
   "execution_count": 1,
   "metadata": {},
   "outputs": [],
   "source": [
    "import numpy as np\n",
    "import matplotlib.pyplot as plt\n",
    "import math"
   ]
  },
  {
   "cell_type": "markdown",
   "metadata": {},
   "source": [
    "## 2. Initialize data with numpy"
   ]
  },
  {
   "cell_type": "code",
   "execution_count": 2,
   "metadata": {},
   "outputs": [],
   "source": [
    "# Init V0\n",
    "V0 = 170"
   ]
  },
  {
   "cell_type": "code",
   "execution_count": 3,
   "metadata": {},
   "outputs": [
    {
     "data": {
      "text/plain": [
       "array([0.  , 0.01, 0.02, 0.03, 0.04, 0.05, 0.06, 0.07, 0.08, 0.09, 0.1 ,\n",
       "       0.11, 0.12, 0.13, 0.14, 0.15, 0.16, 0.17, 0.18, 0.19, 0.2 , 0.21,\n",
       "       0.22, 0.23, 0.24, 0.25, 0.26, 0.27, 0.28, 0.29, 0.3 , 0.31, 0.32,\n",
       "       0.33, 0.34, 0.35, 0.36, 0.37, 0.38, 0.39, 0.4 , 0.41, 0.42, 0.43,\n",
       "       0.44, 0.45, 0.46, 0.47, 0.48, 0.49, 0.5 , 0.51, 0.52, 0.53, 0.54,\n",
       "       0.55, 0.56, 0.57, 0.58, 0.59, 0.6 , 0.61, 0.62, 0.63, 0.64, 0.65,\n",
       "       0.66, 0.67, 0.68, 0.69, 0.7 , 0.71, 0.72, 0.73, 0.74, 0.75, 0.76,\n",
       "       0.77, 0.78, 0.79, 0.8 , 0.81, 0.82, 0.83, 0.84, 0.85, 0.86, 0.87,\n",
       "       0.88, 0.89, 0.9 , 0.91, 0.92, 0.93, 0.94, 0.95, 0.96, 0.97, 0.98,\n",
       "       0.99, 1.  , 1.01, 1.02, 1.03, 1.04, 1.05, 1.06, 1.07, 1.08, 1.09,\n",
       "       1.1 , 1.11, 1.12, 1.13, 1.14, 1.15, 1.16, 1.17, 1.18, 1.19, 1.2 ,\n",
       "       1.21, 1.22, 1.23, 1.24, 1.25, 1.26, 1.27, 1.28, 1.29, 1.3 , 1.31,\n",
       "       1.32, 1.33, 1.34, 1.35, 1.36, 1.37, 1.38, 1.39, 1.4 , 1.41, 1.42,\n",
       "       1.43, 1.44, 1.45, 1.46, 1.47, 1.48, 1.49, 1.5 , 1.51, 1.52, 1.53,\n",
       "       1.54, 1.55, 1.56, 1.57, 1.58, 1.59, 1.6 , 1.61, 1.62, 1.63, 1.64,\n",
       "       1.65, 1.66, 1.67, 1.68, 1.69, 1.7 , 1.71, 1.72, 1.73, 1.74, 1.75,\n",
       "       1.76, 1.77, 1.78, 1.79, 1.8 , 1.81, 1.82, 1.83, 1.84, 1.85, 1.86,\n",
       "       1.87, 1.88, 1.89, 1.9 , 1.91, 1.92, 1.93, 1.94, 1.95, 1.96, 1.97,\n",
       "       1.98, 1.99])"
      ]
     },
     "execution_count": 3,
     "metadata": {},
     "output_type": "execute_result"
    }
   ],
   "source": [
    "#Init time points\n",
    "times = np.arange(0, 2, 0.01)\n",
    "times"
   ]
  },
  {
   "cell_type": "code",
   "execution_count": 4,
   "metadata": {},
   "outputs": [],
   "source": [
    "# # Calculate s based on V(t)\n",
    "# Vs_option1 = []\n",
    "# for time in times:\n",
    "#     Vs_option1.append(V0*math.sin(2*math.pi*time))\n",
    "# Vs_option1"
   ]
  },
  {
   "cell_type": "code",
   "execution_count": 5,
   "metadata": {},
   "outputs": [],
   "source": [
    "# Vs_option2 = [V0*math.sin(2*math.pi*time) for time in times]\n",
    "# Vs_option2"
   ]
  },
  {
   "cell_type": "code",
   "execution_count": 6,
   "metadata": {
    "scrolled": true
   },
   "outputs": [
    {
     "data": {
      "text/plain": [
       "array([ 0.00000000e+00,  1.06743883e+01,  2.13066497e+01,  3.18548235e+01,\n",
       "        4.22772808e+01,  5.25328890e+01,  6.25811740e+01,  7.23824796e+01,\n",
       "        8.18981246e+01,  9.10905551e+01,  9.99234929e+01,  1.08362078e+02,\n",
       "        1.16373008e+02,  1.23924667e+02,  1.30987251e+02,  1.37532889e+02,\n",
       "        1.43535747e+02,  1.48972136e+02,  1.53820599e+02,  1.58062003e+02,\n",
       "        1.61679608e+02,  1.64659137e+02,  1.66988833e+02,  1.68659499e+02,\n",
       "        1.69664544e+02,  1.70000000e+02,  1.69664544e+02,  1.68659499e+02,\n",
       "        1.66988833e+02,  1.64659137e+02,  1.61679608e+02,  1.58062003e+02,\n",
       "        1.53820599e+02,  1.48972136e+02,  1.43535747e+02,  1.37532889e+02,\n",
       "        1.30987251e+02,  1.23924667e+02,  1.16373008e+02,  1.08362078e+02,\n",
       "        9.99234929e+01,  9.10905551e+01,  8.18981246e+01,  7.23824796e+01,\n",
       "        6.25811740e+01,  5.25328890e+01,  4.22772808e+01,  3.18548235e+01,\n",
       "        2.13066497e+01,  1.06743883e+01,  2.08189956e-14, -1.06743883e+01,\n",
       "       -2.13066497e+01, -3.18548235e+01, -4.22772808e+01, -5.25328890e+01,\n",
       "       -6.25811740e+01, -7.23824796e+01, -8.18981246e+01, -9.10905551e+01,\n",
       "       -9.99234929e+01, -1.08362078e+02, -1.16373008e+02, -1.23924667e+02,\n",
       "       -1.30987251e+02, -1.37532889e+02, -1.43535747e+02, -1.48972136e+02,\n",
       "       -1.53820599e+02, -1.58062003e+02, -1.61679608e+02, -1.64659137e+02,\n",
       "       -1.66988833e+02, -1.68659499e+02, -1.69664544e+02, -1.70000000e+02,\n",
       "       -1.69664544e+02, -1.68659499e+02, -1.66988833e+02, -1.64659137e+02,\n",
       "       -1.61679608e+02, -1.58062003e+02, -1.53820599e+02, -1.48972136e+02,\n",
       "       -1.43535747e+02, -1.37532889e+02, -1.30987251e+02, -1.23924667e+02,\n",
       "       -1.16373008e+02, -1.08362078e+02, -9.99234929e+01, -9.10905551e+01,\n",
       "       -8.18981246e+01, -7.23824796e+01, -6.25811740e+01, -5.25328890e+01,\n",
       "       -4.22772808e+01, -3.18548235e+01, -2.13066497e+01, -1.06743883e+01,\n",
       "       -4.16379912e-14,  1.06743883e+01,  2.13066497e+01,  3.18548235e+01,\n",
       "        4.22772808e+01,  5.25328890e+01,  6.25811740e+01,  7.23824796e+01,\n",
       "        8.18981246e+01,  9.10905551e+01,  9.99234929e+01,  1.08362078e+02,\n",
       "        1.16373008e+02,  1.23924667e+02,  1.30987251e+02,  1.37532889e+02,\n",
       "        1.43535747e+02,  1.48972136e+02,  1.53820599e+02,  1.58062003e+02,\n",
       "        1.61679608e+02,  1.64659137e+02,  1.66988833e+02,  1.68659499e+02,\n",
       "        1.69664544e+02,  1.70000000e+02,  1.69664544e+02,  1.68659499e+02,\n",
       "        1.66988833e+02,  1.64659137e+02,  1.61679608e+02,  1.58062003e+02,\n",
       "        1.53820599e+02,  1.48972136e+02,  1.43535747e+02,  1.37532889e+02,\n",
       "        1.30987251e+02,  1.23924667e+02,  1.16373008e+02,  1.08362078e+02,\n",
       "        9.99234929e+01,  9.10905551e+01,  8.18981246e+01,  7.23824796e+01,\n",
       "        6.25811740e+01,  5.25328890e+01,  4.22772808e+01,  3.18548235e+01,\n",
       "        2.13066497e+01,  1.06743883e+01,  6.24569868e-14, -1.06743883e+01,\n",
       "       -2.13066497e+01, -3.18548235e+01, -4.22772808e+01, -5.25328890e+01,\n",
       "       -6.25811740e+01, -7.23824796e+01, -8.18981246e+01, -9.10905551e+01,\n",
       "       -9.99234929e+01, -1.08362078e+02, -1.16373008e+02, -1.23924667e+02,\n",
       "       -1.30987251e+02, -1.37532889e+02, -1.43535747e+02, -1.48972136e+02,\n",
       "       -1.53820599e+02, -1.58062003e+02, -1.61679608e+02, -1.64659137e+02,\n",
       "       -1.66988833e+02, -1.68659499e+02, -1.69664544e+02, -1.70000000e+02,\n",
       "       -1.69664544e+02, -1.68659499e+02, -1.66988833e+02, -1.64659137e+02,\n",
       "       -1.61679608e+02, -1.58062003e+02, -1.53820599e+02, -1.48972136e+02,\n",
       "       -1.43535747e+02, -1.37532889e+02, -1.30987251e+02, -1.23924667e+02,\n",
       "       -1.16373008e+02, -1.08362078e+02, -9.99234929e+01, -9.10905551e+01,\n",
       "       -8.18981246e+01, -7.23824796e+01, -6.25811740e+01, -5.25328890e+01,\n",
       "       -4.22772808e+01, -3.18548235e+01, -2.13066497e+01, -1.06743883e+01])"
      ]
     },
     "execution_count": 6,
     "metadata": {},
     "output_type": "execute_result"
    }
   ],
   "source": [
    "Vs_option3 = V0*np.sin(2*np.pi*times)\n",
    "Vs_option3"
   ]
  },
  {
   "cell_type": "markdown",
   "metadata": {},
   "source": [
    "## 3. Drawing plot"
   ]
  },
  {
   "cell_type": "code",
   "execution_count": 7,
   "metadata": {},
   "outputs": [
    {
     "name": "stdout",
     "output_type": "stream",
     "text": [
      "Number of elements in 'tines': 200\n",
      "Number of elements in 'Vs_option3': 200\n"
     ]
    },
    {
     "data": {
      "text/plain": [
       "True"
      ]
     },
     "execution_count": 7,
     "metadata": {},
     "output_type": "execute_result"
    }
   ],
   "source": [
    "# Check if number of items in Vs matches number of items in times\n",
    "print(\"Number of elements in 'tines': {}\".format(times.size))\n",
    "print(\"Number of elements in 'Vs_option3': {}\".format(Vs_option3.size))\n",
    "times.size == Vs_option3.size"
   ]
  },
  {
   "cell_type": "code",
   "execution_count": 13,
   "metadata": {},
   "outputs": [
    {
     "data": {
      "text/plain": [
       "[<matplotlib.lines.Line2D at 0x1832fffc908>]"
      ]
     },
     "execution_count": 13,
     "metadata": {},
     "output_type": "execute_result"
    },
    {
     "data": {
      "image/png": "[encoded data removed]",
      "text/plain": [
       "<Figure size 432x288 with 1 Axes>"
      ]
     },
     "metadata": {},
     "output_type": "display_data"
    }
   ],
   "source": [
    "fig, ax = plt.subplots()\n",
    "ax.set(xlabel=\"time(s)\", ylabel=\"Voltage (V)\", title=\"Variation of voltage across time\")\n",
    "ax.grid()\n",
    "ax.plot(times, Vs_option3)"
   ]
  },
  {
   "cell_type": "code",
   "execution_count": 12,
   "metadata": {},
   "outputs": [],
   "source": [
    "plt.show()"
   ]
  }
 ],
 "metadata": {
  "kernelspec": {
   "display_name": "Python 3",
   "language": "python",
   "name": "python3"
  },
  "language_info": {
   "codemirror_mode": {
    "name": "ipython",
    "version": 3
   },
   "file_extension": ".py",
   "mimetype": "text/x-python",
   "name": "python",
   "nbconvert_exporter": "python",
   "pygments_lexer": "ipython3",
   "version": "3.6.5"
  }
 },
 "nbformat": 4,
 "nbformat_minor": 2
}
